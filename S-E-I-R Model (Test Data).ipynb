{
 "cells": [
  {
   "cell_type": "markdown",
   "metadata": {},
   "source": [
    "# COMPARTMENTALLY MODELLING EPIDEMIC SPREAD\n",
    "\n",
    "Compartmental models are used to simply mathematical modelling of different types of disease spread. For example-\n",
    "1. Susceptible-Infectious-Susceptible (SIS) model: Used to model diseases like influenze or common cold which does not render long term immunity. \n",
    "2. Susceptible-Infectious-Recovered (SIR) model: Used to model diseases with small infectious period like measeles\n",
    "3. Carrier State SIR model: Used to model diseases like Tuberculosis in which infectious people still act  as carriers after long periods of time\n",
    "\n",
    "We will be using one such Bio-Mathematical model called Susceptible-Exposed-Infectious-Recovered (SEIR)"
   ]
  },
  {
   "cell_type": "code",
   "execution_count": 1,
   "metadata": {},
   "outputs": [],
   "source": [
    "from numpy import *\n",
    "import matplotlib.pyplot as plt\n",
    "from matplotlib.animation import FuncAnimation\n",
    "from IPython.display import HTML"
   ]
  },
  {
   "cell_type": "markdown",
   "metadata": {},
   "source": [
    "## SEIR Compartmental Strategy\n",
    "\n",
    "For a sample with $N$ people, there are 4 broad categories, Susceptible $S$, Exposed $E$, Infected $I$ and Recovered $R$ such that: \n",
    "\n",
    "$$S + E+ I + R = N$$\n",
    "\n",
    "$\\Delta$ is the birth rate in the sample and $\\mu$ is the death rate in the sample.\n",
    "\n",
    "### Rate of change of Susceptibles:\n",
    "\n",
    "$$\n",
    "\\frac{dS}{dt} = \\Delta - \\mu S -\\frac{-\\beta S I}{N} \n",
    "$$\n",
    "\n",
    "$\\beta$ dictates the transfer of susceptible people to exposed bracket\n",
    "\n",
    "### Rate of change of exposed:\n",
    "\n",
    "$$\n",
    "\\frac{dE}{dt} = \\frac{\\beta S I}{N} - (\\mu + \\alpha)E\n",
    "$$\n",
    "\n",
    "$\\alpha$ dictates the transfer of exposed to infected compartment\n",
    "\n",
    "### Rate of change of Infectious:\n",
    "\n",
    "$$\n",
    "\\frac{dI}{dt} = \\alpha E - (\\gamma + \\mu) I\n",
    "$$\n",
    "\n",
    "$\\gamma$ dictates the transfer of infected people to recovered bracket\n",
    "\n",
    "### Rate of change of Recovered:\n",
    "\n",
    "$$\n",
    "\\frac{dR}{dt} = +\\gamma I - \\mu R\n",
    "$$\n",
    "\n",
    ">### NOTE: On Vitality Dynamics\n",
    ">For general purposes, we assume that the birth rate $\\Delta$ remains equal to death rate $\\mu$ and that without the epidemic the sample size would have >remained constant. Since $\\Delta*(S) = \\mu*(S + I + R)$ for a non-fatal disease, we will concern ourselves with the specific fatality rate of the disease. In >other words, the fraction of infected people who die instead of recovering $\\omega$."
   ]
  },
  {
   "cell_type": "code",
   "execution_count": 2,
   "metadata": {},
   "outputs": [],
   "source": [
    "population = N = 100\n",
    "beta = 0.9\n",
    "gamma = 0.08\n",
    "month = 31\n",
    "Days = 2 * month\n",
    "alpha = 0.1\n",
    "omega = fatality = 0.02"
   ]
  },
  {
   "cell_type": "code",
   "execution_count": 3,
   "metadata": {},
   "outputs": [],
   "source": [
    "def dS(S, I):\n",
    "    return -beta * S * I / N - fatality * I\n",
    "\n",
    "def dE(S, I, E):\n",
    "    return (beta * S * I / N) - (alpha * E)\n",
    "                                \n",
    "def dI(E, I):\n",
    "    return alpha * E - (gamma * I)\n",
    "\n",
    "def dR(I):\n",
    "    return gamma * I - fatality * I\n",
    "\n",
    "def death(I):\n",
    "    return fatality * I\n",
    "\n",
    "Tf = Days\n",
    "dt = 0.1\n",
    "steps = int(Tf/dt)\n",
    "\n",
    "T = zeros(steps+1, float)\n",
    "S = zeros(steps+1, float)\n",
    "E = zeros(steps+1, float)\n",
    "I = zeros(steps+1, float)\n",
    "R = zeros(steps+1, float)\n",
    "D = zeros(steps+1, float)\n",
    "\n",
    "T[0] = 0.0\n",
    "S[0] = population\n",
    "E[0] = 3.0\n",
    "I[0] = 1.0\n",
    "R[0] = 0.0\n",
    "D[0] = 0.0"
   ]
  },
  {
   "cell_type": "code",
   "execution_count": 4,
   "metadata": {},
   "outputs": [],
   "source": [
    "def SIR_plot(i, inf, exp, sus, rec):\n",
    "    \n",
    "    T[i+1] = dt * (i+1)\n",
    "    S[i+1] = S[i] + dS(S[i], I[i]) * dt\n",
    "    E[i+1] = E[i] + dE(S[i], I[i], E[i]) * dt\n",
    "    I[i+1] = I[i] + dI(E[i], I[i]) * dt\n",
    "    R[i+1] = R[i] + dR(I[i]) * dt\n",
    "    D[i+1] = death(I[i+1])\n",
    "    \n",
    "    inf.set_data(T[:i], I[:i])\n",
    "    sus.set_data(T[:i], S[:i])\n",
    "    exp.set_data(T[:i], E[:i])\n",
    "    rec.set_data(T[:i], R[:i])\n",
    "    dead.set_data(T[:i], D[:i])\n",
    "    \n",
    "    return (inf,sus, exp, rec, dead)\n"
   ]
  },
  {
   "cell_type": "code",
   "execution_count": 5,
   "metadata": {},
   "outputs": [
    {
     "data": {
      "text/plain": [
       "<matplotlib.legend.Legend at 0x155e83f5f48>"
      ]
     },
     "execution_count": 5,
     "metadata": {},
     "output_type": "execute_result"
    },
    {
     "data": {
      "image/png": "[encoded data removed]",
      "text/plain": [
       "<Figure size 432x288 with 1 Axes>"
      ]
     },
     "metadata": {
      "needs_background": "light"
     },
     "output_type": "display_data"
    }
   ],
   "source": [
    "fig, ax = plt.subplots()\n",
    "infected = ax.plot(T, I, label=\"Infected\")[0]\n",
    "susceptible = ax.plot(T, S, label=\"Susceptible\")[0]\n",
    "exposed = ax.plot(T, E, label=\"Exposed\")[0]\n",
    "recovered = ax.plot(T, R, label=\"Recovered\")[0]\n",
    "dead = ax.plot(T, D, label=\"Deaths\")[0]\n",
    "\n",
    "ax.set_xlabel(\"Days\")\n",
    "ax.set_ylabel(\"No. of People\")\n",
    "ax.set_xlim(0,Tf)\n",
    "ax.set_ylim(0,N)\n",
    "\n",
    "fig.legend()"
   ]
  },
  {
   "cell_type": "code",
   "execution_count": 6,
   "metadata": {},
   "outputs": [],
   "source": [
    "#SIR_plot(Sample Size, beta, gamma, total duration)\n",
    "ani = FuncAnimation(fig, SIR_plot, interval=1000/100, frames=steps, fargs=(infected, exposed, susceptible, recovered))"
   ]
  },
  {
   "cell_type": "code",
   "execution_count": 7,
   "metadata": {},
   "outputs": [
    {
     "ename": "RuntimeError",
     "evalue": "Requested MovieWriter (ffmpeg) not available",
     "output_type": "error",
     "traceback": [
      "\u001b[1;31m---------------------------------------------------------------------------\u001b[0m",
      "\u001b[1;31mKeyError\u001b[0m                                  Traceback (most recent call last)",
      "\u001b[1;32m~\\anaconda3\\lib\\site-packages\\matplotlib\\animation.py\u001b[0m in \u001b[0;36m__getitem__\u001b[1;34m(self, name)\u001b[0m\n\u001b[0;32m    160\u001b[0m         \u001b[1;32mtry\u001b[0m\u001b[1;33m:\u001b[0m\u001b[1;33m\u001b[0m\u001b[1;33m\u001b[0m\u001b[0m\n\u001b[1;32m--> 161\u001b[1;33m             \u001b[1;32mreturn\u001b[0m \u001b[0mself\u001b[0m\u001b[1;33m.\u001b[0m\u001b[0mavail\u001b[0m\u001b[1;33m[\u001b[0m\u001b[0mname\u001b[0m\u001b[1;33m]\u001b[0m\u001b[1;33m\u001b[0m\u001b[1;33m\u001b[0m\u001b[0m\n\u001b[0m\u001b[0;32m    162\u001b[0m         \u001b[1;32mexcept\u001b[0m \u001b[0mKeyError\u001b[0m\u001b[1;33m:\u001b[0m\u001b[1;33m\u001b[0m\u001b[1;33m\u001b[0m\u001b[0m\n",
      "\u001b[1;31mKeyError\u001b[0m: 'ffmpeg'",
      "\nDuring handling of the above exception, another exception occurred:\n",
      "\u001b[1;31mRuntimeError\u001b[0m                              Traceback (most recent call last)",
      "\u001b[1;32m<ipython-input-7-f47e5100e4fd>\u001b[0m in \u001b[0;36m<module>\u001b[1;34m\u001b[0m\n\u001b[1;32m----> 1\u001b[1;33m \u001b[0mHTML\u001b[0m\u001b[1;33m(\u001b[0m\u001b[0mani\u001b[0m\u001b[1;33m.\u001b[0m\u001b[0mto_html5_video\u001b[0m\u001b[1;33m(\u001b[0m\u001b[1;33m)\u001b[0m\u001b[1;33m)\u001b[0m\u001b[1;33m\u001b[0m\u001b[1;33m\u001b[0m\u001b[0m\n\u001b[0m",
      "\u001b[1;32m~\\anaconda3\\lib\\site-packages\\matplotlib\\animation.py\u001b[0m in \u001b[0;36mto_html5_video\u001b[1;34m(self, embed_limit)\u001b[0m\n\u001b[0;32m   1324\u001b[0m                 \u001b[1;31m# We create a writer manually so that we can get the\u001b[0m\u001b[1;33m\u001b[0m\u001b[1;33m\u001b[0m\u001b[1;33m\u001b[0m\u001b[0m\n\u001b[0;32m   1325\u001b[0m                 \u001b[1;31m# appropriate size for the tag\u001b[0m\u001b[1;33m\u001b[0m\u001b[1;33m\u001b[0m\u001b[1;33m\u001b[0m\u001b[0m\n\u001b[1;32m-> 1326\u001b[1;33m                 \u001b[0mWriter\u001b[0m \u001b[1;33m=\u001b[0m \u001b[0mwriters\u001b[0m\u001b[1;33m[\u001b[0m\u001b[0mrcParams\u001b[0m\u001b[1;33m[\u001b[0m\u001b[1;34m'animation.writer'\u001b[0m\u001b[1;33m]\u001b[0m\u001b[1;33m]\u001b[0m\u001b[1;33m\u001b[0m\u001b[1;33m\u001b[0m\u001b[0m\n\u001b[0m\u001b[0;32m   1327\u001b[0m                 writer = Writer(codec='h264',\n\u001b[0;32m   1328\u001b[0m                                 \u001b[0mbitrate\u001b[0m\u001b[1;33m=\u001b[0m\u001b[0mrcParams\u001b[0m\u001b[1;33m[\u001b[0m\u001b[1;34m'animation.bitrate'\u001b[0m\u001b[1;33m]\u001b[0m\u001b[1;33m,\u001b[0m\u001b[1;33m\u001b[0m\u001b[1;33m\u001b[0m\u001b[0m\n",
      "\u001b[1;32m~\\anaconda3\\lib\\site-packages\\matplotlib\\animation.py\u001b[0m in \u001b[0;36m__getitem__\u001b[1;34m(self, name)\u001b[0m\n\u001b[0;32m    162\u001b[0m         \u001b[1;32mexcept\u001b[0m \u001b[0mKeyError\u001b[0m\u001b[1;33m:\u001b[0m\u001b[1;33m\u001b[0m\u001b[1;33m\u001b[0m\u001b[0m\n\u001b[0;32m    163\u001b[0m             raise RuntimeError(\n\u001b[1;32m--> 164\u001b[1;33m                 'Requested MovieWriter ({}) not available'.format(name))\n\u001b[0m\u001b[0;32m    165\u001b[0m \u001b[1;33m\u001b[0m\u001b[0m\n\u001b[0;32m    166\u001b[0m \u001b[1;33m\u001b[0m\u001b[0m\n",
      "\u001b[1;31mRuntimeError\u001b[0m: Requested MovieWriter (ffmpeg) not available"
     ]
    }
   ],
   "source": [
    "HTML(ani.to_html5_video())"
   ]
  },
  {
   "cell_type": "code",
   "execution_count": 61,
   "metadata": {},
   "outputs": [],
   "source": [
    "ani.save('100People_2Months_NODISTANCING.mp4')"
   ]
  },
  {
   "cell_type": "code",
   "execution_count": null,
   "metadata": {},
   "outputs": [],
   "source": []
  }
 ],
 "metadata": {
  "kernelspec": {
   "display_name": "Python 3",
   "language": "python",
   "name": "python3"
  },
  "language_info": {
   "codemirror_mode": {
    "name": "ipython",
    "version": 3
   },
   "file_extension": ".py",
   "mimetype": "text/x-python",
   "name": "python",
   "nbconvert_exporter": "python",
   "pygments_lexer": "ipython3",
   "version": "3.7.6"
  }
 },
 "nbformat": 4,
 "nbformat_minor": 4
}
