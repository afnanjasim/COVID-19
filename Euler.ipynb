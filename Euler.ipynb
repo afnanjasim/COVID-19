{
 "cells": [
  {
   "cell_type": "code",
   "execution_count": 1,
   "metadata": {},
   "outputs": [
    {
     "name": "stdin",
     "output_type": "stream",
     "text": [
      " 2\n",
      " 10\n"
     ]
    },
    {
     "name": "stdout",
     "output_type": "stream",
     "text": [
      "10\n"
     ]
    },
    {
     "name": "stdin",
     "output_type": "stream",
     "text": [
      " 100\n"
     ]
    },
    {
     "name": "stdout",
     "output_type": "stream",
     "text": [
      "44\n"
     ]
    }
   ],
   "source": [
    "t = int(input().strip())\n",
    "for a0 in range(t):\n",
    "    n = int(input().strip())\n",
    "    fibonaci_next_num=0\n",
    "    prev_first_term=0\n",
    "    prev_second_term=1\n",
    "    sum=0\n",
    "    for count in range(n):\n",
    "        fibonaci_next_num=prev_first_term+prev_second_term\n",
    "        prev_first_term=prev_second_term\n",
    "        prev_second_term=fibonaci_next_num\n",
    "        if(fibonaci_next_num%2==0 and fibonaci_next_num<=n):\n",
    "            sum=sum+fibonaci_next_num\n",
    "    print(sum)"
   ]
  },
  {
   "cell_type": "code",
   "execution_count": null,
   "metadata": {},
   "outputs": [],
   "source": [
    "t = int(input().strip())\n",
    "for a0 in range(t):\n",
    "    n = int(input().strip())\n",
    "    fibonaci_next_num=0\n",
    "    prev_first_term=0\n",
    "    prev_second_term=1\n",
    "    sum=0\n",
    "    for count in range(n):\n",
    "        fibonaci_next_num=prev_first_term+prev_second_term\n",
    "        prev_first_term=prev_second_term\n",
    "        prev_second_term=fibonaci_next_num\n",
    "        if(fibonaci_next_num%2==0 and fibonaci_next_num<=n):\n",
    "            sum=sum+fibonaci_next_num\n",
    "    print(sum)\n",
    " "
   ]
  }
 ],
 "metadata": {
  "kernelspec": {
   "display_name": "Python 3",
   "language": "python",
   "name": "python3"
  },
  "language_info": {
   "codemirror_mode": {
    "name": "ipython",
    "version": 3
   },
   "file_extension": ".py",
   "mimetype": "text/x-python",
   "name": "python",
   "nbconvert_exporter": "python",
   "pygments_lexer": "ipython3",
   "version": "3.6.8"
  }
 },
 "nbformat": 4,
 "nbformat_minor": 4
}
